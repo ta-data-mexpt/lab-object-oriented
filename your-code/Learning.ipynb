{
 "cells": [
  {
   "cell_type": "markdown",
   "metadata": {},
   "source": [
    "# Object Oriented Programming\n",
    "\n",
    "\n",
    "\n",
    "Lesson Goals\n",
    "\n",
    "In this lesson you will learn all about object oriented programming and how it relates to data science.\n",
    "Introduction\n",
    "\n",
    "In this course so far, we have emphasized the importance of functional programming as the programming paradigm of choice in data science. However, we neglect to mention how object oriented programming can be helpful to us as data scientists. Object oriented programming is the practice of writing programs that are centered around objects. These objects contain methods and properties all bundled together.\n",
    "\n",
    "You have been using objects all along without knowing. For example, a dataframe is an object. It contains many methods bundled into the dataframe like the isna() function or the shape() method.\n",
    "The Linear Regression Example\n",
    "\n",
    "Let's start with a relevant example. In the prework module we have learned about linear regression. While we did not introduce the algorithm in great detail, we learned that linear regression is a method to model the relationship between the predictor (or independent) variables and the response (or dependent variable). To find the best model between the predictor and response variables, we must optimize the sum of squared errors. This means that we find the difference between each observation and the predicted value, square these differences and add them up. The smallest such sum will give us the best linear model.\n",
    "\n",
    "To find this optimal model, let's write our own regression function."
   ]
  },
  {
   "cell_type": "code",
   "execution_count": 1,
   "metadata": {},
   "outputs": [],
   "source": [
    "import numpy as np\n",
    "\n",
    "def ordinary_least_squares(X, y):\n",
    "    # This function returns the regression coefficients of a linear model\n",
    "    # input: X - predictor variables and y - response variables\n",
    "    # output: regression coefficients\n",
    "    \n",
    "    xtx = np.dot(X.T, X) ## x-transpose times x\n",
    "    xtx_inv = np.linalg.inv(xtx) ## inverse of x-transpose times x\n",
    "    xty = np.dot(X.T, y) ## x-transpose times y\n",
    "    return np.dot(xtx_inv, xty)"
   ]
  },
  {
   "cell_type": "markdown",
   "metadata": {},
   "source": [
    "Our function returns the regression coefficients. However, what if we want to make a prediction? In this case we will multiply the observed values by the coefficients. So to make a prediction, we will first call our ordinary least squares function and then multiply the observed values by the coefficients."
   ]
  },
  {
   "cell_type": "code",
   "execution_count": 2,
   "metadata": {},
   "outputs": [],
   "source": [
    "X=np.random.rand(2,2)\n",
    "y=np.random.rand(2,1)\n",
    "\n",
    "coefficients = ordinary_least_squares(X, y)\n",
    "predicted = np.dot(X, coefficients)"
   ]
  },
  {
   "cell_type": "markdown",
   "metadata": {},
   "source": [
    "Additionally, what if we want to find the r squared of the model? We will have to first compute the coefficients and then compute the r squared of the model.\n",
    "\n",
    "To avoid doing these computations and storing them in variables and passing them around in functions, we are better off creating a linear regression object.\n",
    "\n",
    "\n",
    "\n",
    "# Creating an Object\n",
    "\n",
    "We'll start off by creating a linear regression object called a class. A class has two main interesting features.\n",
    "The self variable\n",
    "\n",
    "self is a variable that is accessible to all other variables and methods inside the class. Using self inside an object helps us pass information around without having to recompute it every time.\n",
    "The __init__ function\n",
    "\n",
    "The __init__ function is typically the first function in an object. This function defines all the actions that need to be performed when we create a new object. The reason we have two underscores before and after the function name is to indicate that this function is internal to the object and should not be called from outside the object.\n",
    "\n",
    "Now that we have defined a few basics, let's create a linear regression object. The naming convention for classes is upper camel case (this means that the first letter of every word in the name is capitalized).\n",
    "\n"
   ]
  },
  {
   "cell_type": "code",
   "execution_count": 3,
   "metadata": {},
   "outputs": [],
   "source": [
    "class LinearReg:\n",
    "\n",
    "    def __init__(self, fit_intercept=True):\n",
    "        self.fit_intercept = fit_intercept\n",
    "        self.coefficients = None\n",
    "        self.intercept = None\n"
   ]
  },
  {
   "cell_type": "markdown",
   "metadata": {},
   "source": [
    "What we did in the code block above is set a default value of True for fit_intercept. This means that we would like to create a linear model with an intercept by default. We then assign this value to self. We also defined a number of attributes of self that do not have an initial value. We will compute them later, so for now they are initialized to None. After finding the regression model, we will be able to assign the values of the coefficients and the intercept.\n",
    "\n",
    "\n",
    "# Constructing the Class\n",
    "\n",
    "Let's construct the entire class. We will use our __init__ function as well as add more functions to fill in all values of self.\n",
    "\n"
   ]
  },
  {
   "cell_type": "code",
   "execution_count": 4,
   "metadata": {},
   "outputs": [],
   "source": [
    "class LinearReg:\n",
    "\n",
    "    def __init__(self, fit_intercept=True):\n",
    "        self.fit_intercept = fit_intercept\n",
    "        self.coefficients = None\n",
    "        self.intercept = None\n",
    "        \n",
    "    def fit(self, X, y):\n",
    "        # This function returns the fitted linear model \n",
    "        # input: X - predictor variables and y - response variables\n",
    "        # output: regression coefficients\n",
    "        \n",
    "        xtx = np.dot(X.T, X) ## x-transpose times x\n",
    "        xtx_inv = np.linalg.inv(xtx) ## inverse of x-transpose times x\n",
    "        xty = np.dot(X.T, y) ## x-transpose times y\n",
    "        coefficients = np.dot(xtx_inv, xty)\n",
    "        \n",
    "        if self.fit_intercept:\n",
    "            self.intercept = coefficients[0]\n",
    "            self.coefficients = coefficients[1:]\n",
    "        else:\n",
    "            self.intercept = 0\n",
    "            self.coefficients = coefficients\n",
    "            \n",
    "            \n",
    "    def predict(self, X):\n",
    "        # This function returns the predicted values\n",
    "        # input: array of dependent variables\n",
    "        # output: predicted values\n",
    "        if len(X.shape) == 1:\n",
    "            X = X.reshape(-1,1) \n",
    "            return self.intercept_ + np.dot(X, self.coef_) "
   ]
  },
  {
   "cell_type": "markdown",
   "metadata": {},
   "source": [
    "# Instantiating the Class\n",
    "\n",
    "Using the __init__ function, we can create an instance of our LinearReg class. We can make as many instances of our class as we like. We create an instance of our class like this: "
   ]
  },
  {
   "cell_type": "code",
   "execution_count": 5,
   "metadata": {},
   "outputs": [],
   "source": [
    "linreg = LinearReg()"
   ]
  },
  {
   "cell_type": "markdown",
   "metadata": {},
   "source": [
    "Since there are no required parameters to initialize, we leave the parentheses empty. However, we could initialize to fit_intercept=False if we wanted a model without an intercept.\n",
    "\n",
    "We can now use linreg as an access point to the methods in the class. For example, here we use fit: "
   ]
  },
  {
   "cell_type": "code",
   "execution_count": 6,
   "metadata": {},
   "outputs": [],
   "source": [
    "linreg.fit(X, y)"
   ]
  },
  {
   "cell_type": "markdown",
   "metadata": {},
   "source": [
    "After fitting the model, we should have values populated for the coefficients and intercept since classes are not immutable.\n",
    "\n",
    "\n",
    "\n",
    "# Class Inheritance\n",
    "\n",
    "We can use class inheritance when we would like to create a new class that will take on the attributes of another class. The new child class inherits all the methods of the parent class. However, we can override the methods of the parent class in the child class."
   ]
  },
  {
   "cell_type": "code",
   "execution_count": null,
   "metadata": {},
   "outputs": [],
   "source": []
  }
 ],
 "metadata": {
  "kernelspec": {
   "display_name": "Python 3",
   "language": "python",
   "name": "python3"
  },
  "language_info": {
   "codemirror_mode": {
    "name": "ipython",
    "version": 3
   },
   "file_extension": ".py",
   "mimetype": "text/x-python",
   "name": "python",
   "nbconvert_exporter": "python",
   "pygments_lexer": "ipython3",
   "version": "3.7.2"
  }
 },
 "nbformat": 4,
 "nbformat_minor": 2
}
